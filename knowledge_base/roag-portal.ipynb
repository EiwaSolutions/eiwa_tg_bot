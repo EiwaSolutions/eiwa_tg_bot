{
 "cells": [
  {
   "cell_type": "code",
   "execution_count": null,
   "id": "add741b5-0db8-46f2-b671-b675ce714594",
   "metadata": {},
   "outputs": [],
   "source": [
    "import requests\n",
    "from bs4 import BeautifulSoup\n",
    "import os\n",
    "import time\n",
    "\n",
    "def download_files(url, download_path):\n",
    "    # Send a request to the website\n",
    "    session = requests.Session()\n",
    "    # Set a user-agent for the session\n",
    "    session.headers.update(\n",
    "        {'User-Agent': 'Mozilla/5.0 (Windows NT 10.0; Win64; x64) AppleWebKit/537.36 (KHTML, like Gecko) Chrome/91.0.4472.124 Safari/537.36'})\n",
    "\n",
    "    # Send a request to the website\n",
    "    response = session.get(url)\n",
    "    response.raise_for_status()\n",
    "\n",
    "    # Create a BeautifulSoup object\n",
    "    soup = BeautifulSoup(response.text, 'html.parser')\n",
    "\n",
    "    # Find all the 'a' tags with text 'Скачать PDF'\n",
    "    pdf_links = soup.find_all('a', string='Скачать PDF')\n",
    "\n",
    "    # Loop through the 'a' tags to download the files\n",
    "    for link in pdf_links:\n",
    "        # Get the URL\n",
    "        gdrive_url = link['href']\n",
    "        # Extract the file ID from the URL\n",
    "        file_id = gdrive_url.split('id=')[1].split('&')[0]\n",
    "        # Try to find the closest preceding header tag for the original filename\n",
    "        original_filename_div = link.find_previous('div', class_='t-card__title t-name t-name_lg')\n",
    "        if original_filename_div:\n",
    "            original_filename = original_filename_div.text\n",
    "        else:\n",
    "            # If no div is found, use the file ID as the filename\n",
    "            original_filename = file_id\n",
    "        \n",
    "        # Replace any characters in filename that are not allowed in file names\n",
    "        original_filename = original_filename.replace('/', '-').replace(':', '-')\n",
    "        \n",
    "        # Construct the direct download link\n",
    "        direct_download_link = f'https://drive.google.com/uc?export=download&id={file_id}'\n",
    "        \n",
    "        # Download the file\n",
    "        response = requests.get(direct_download_link)\n",
    "        response.raise_for_status()  # Check for a valid response\n",
    "        # Write the file to disk\n",
    "        with open(os.path.join(download_path, f'{original_filename}.pdf'), 'wb') as f:\n",
    "            f.write(response.content)\n",
    "        print(f'Downloaded {original_filename}.pdf')\n",
    "        time.sleep(1)\n",
    "\n",
    "# Specify the URL of the webpage and the path where you want to download the files\n",
    "url = 'https://roag-portal.ru/recommendations_obstetrics'\n",
    "download_path = 'akusher_pdfs'\n",
    "\n",
    "# Call the function to download the files\n",
    "download_files(url, download_path)"
   ]
  },
  {
   "cell_type": "code",
   "execution_count": null,
   "id": "d5b289ee-95a1-450c-9279-1457f645aa77",
   "metadata": {},
   "outputs": [],
   "source": []
  },
  {
   "cell_type": "code",
   "execution_count": null,
   "id": "2af382d7-2e64-456a-a9c8-70a977fa9e9e",
   "metadata": {},
   "outputs": [],
   "source": []
  }
 ],
 "metadata": {
  "kernelspec": {
   "display_name": "Python 3 (ipykernel)",
   "language": "python",
   "name": "python3"
  },
  "language_info": {
   "codemirror_mode": {
    "name": "ipython",
    "version": 3
   },
   "file_extension": ".py",
   "mimetype": "text/x-python",
   "name": "python",
   "nbconvert_exporter": "python",
   "pygments_lexer": "ipython3",
   "version": "3.11.5"
  }
 },
 "nbformat": 4,
 "nbformat_minor": 5
}
